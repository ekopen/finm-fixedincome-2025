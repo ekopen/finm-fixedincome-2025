{
 "cells": [
  {
   "cell_type": "markdown",
   "metadata": {},
   "source": [
    "## Submitting your Exam"
   ]
  },
  {
   "cell_type": "markdown",
   "metadata": {},
   "source": [
    "Submission\n",
    "* You will upload your solution to the `Final - Open` assignment on Canvas. \n",
    "* Submit a compressed, \"zipped\", folder containing all code according to the file structure below.\n",
    "* Name your submitted, zipped, folder `exam-open-LASTNAME-FIRSTNAME.zip`.\n",
    "* Be sure to **submit** on Canvas, not just **save** on Canvas.\n",
    "\n",
    "Your submission should **include all code and data used in your analysis** in the following folder structure.\n",
    "* We strongly prefer all submissions are structred this way, and it will improve grading accuracy for partial credit. \n",
    "* Still, if you're struggling to get this working in time, no worries; just structure as comfortable and submit **everything used** for your submission."
   ]
  },
  {
   "cell_type": "markdown",
   "metadata": {},
   "source": [
    "__Exam Submission Structure:__\n",
    "\n",
    "```plaintext\n",
    "exam-open-LASTNAME-FIRSTNAME.zip/\n",
    "│── exam-open.ipynb\n",
    "│── data/\n",
    "│   ├── example_data.csv\n",
    "│── modules/\n",
    "│   ├── my_functions.py"
   ]
  },
  {
   "cell_type": "markdown",
   "metadata": {},
   "source": [
    "### Validating your folder structure\n",
    "\n",
    "The next cell tests that you have this folder structure implemented."
   ]
  },
  {
   "cell_type": "code",
   "execution_count": null,
   "metadata": {},
   "outputs": [],
   "source": [
    "from pathlib import Path\n",
    "import sys\n",
    "import pandas as pd\n",
    "\n",
    "# Get the directory of the notebook (assumes Jupyter Notebook is always used)\n",
    "BASE_DIR = Path().resolve()\n",
    "\n",
    "# Define paths for data and modules\n",
    "DATA_DIR = BASE_DIR / \"data\"\n",
    "MODULES_DIR = BASE_DIR / \"modules\"\n",
    "\n",
    "# Check if expected directories exist\n",
    "if not DATA_DIR.exists():\n",
    "    print(f\"Warning: Data directory '{DATA_DIR}' not found. Check your file structure.\")\n",
    "\n",
    "if not MODULES_DIR.exists():\n",
    "    print(f\"Warning: Modules directory '{MODULES_DIR}' not found. Check your file structure.\")\n",
    "\n",
    "# Ensure Python can import from the modules directory\n",
    "if str(MODULES_DIR) not in sys.path:\n",
    "    sys.path.append(str(MODULES_DIR))\n",
    "\n",
    "# Load exam data\n",
    "EXAMPLE_DATA_PATH = DATA_DIR / \"example_data.csv\"\n",
    "\n",
    "if EXAMPLE_DATA_PATH.exists():\n",
    "    example_data = pd.read_csv(EXAMPLE_DATA_PATH)\n",
    "else:\n",
    "    print(f\"Warning: '{EXAMPLE_DATA_PATH.name}' not found. Ensure it's in the correct directory.\")\n"
   ]
  }
 ],
 "metadata": {
  "kernelspec": {
   "display_name": "Python 3 (ipykernel)",
   "language": "python",
   "name": "python3"
  },
  "language_info": {
   "codemirror_mode": {
    "name": "ipython",
    "version": 3
   },
   "file_extension": ".py",
   "mimetype": "text/x-python",
   "name": "python",
   "nbconvert_exporter": "python",
   "pygments_lexer": "ipython3",
   "version": "3.9.6"
  }
 },
 "nbformat": 4,
 "nbformat_minor": 4
}
