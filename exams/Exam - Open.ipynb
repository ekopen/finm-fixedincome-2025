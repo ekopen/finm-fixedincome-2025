{
 "cells": [
  {
   "cell_type": "markdown",
   "metadata": {},
   "source": [
    "# Final Exam - Open\n",
    "\n",
    "## FINM 37400 - 2025\n",
    "\n",
    "### UChicago Financial Mathematics\n",
    "\n",
    "* Mark Hendricks\n",
    "* hendricks@uchicago.edu"
   ]
  },
  {
   "cell_type": "markdown",
   "metadata": {},
   "source": [
    "***"
   ]
  },
  {
   "cell_type": "markdown",
   "metadata": {},
   "source": [
    "# Instructions"
   ]
  },
  {
   "cell_type": "markdown",
   "metadata": {},
   "source": [
    "## Please note the following:\n",
    "\n",
    "Points\n",
    "* You have `100` minutes to complete the exam.\n",
    "* For every minute late you submit the exam, you will lose one point.\n",
    "\n",
    "Rules\n",
    "* The exam is open-material, closed-communication.\n",
    "* You do not need to cite material from the course github repo - you are welcome to use the code posted there without citation.\n",
    "\n",
    "Advice\n",
    "* If you find any question to be unclear, state your interpretation and proceed. We will only answer questions of interpretation if there is a typo, error, etc.\n",
    "* The exam will be graded for partial credit."
   ]
  },
  {
   "cell_type": "markdown",
   "metadata": {},
   "source": [
    "## Data\n",
    "\n",
    "**All data files are found in the class github repo, in the `data` folder.**\n",
    "\n",
    "- For Section 1:\n",
    "    * No data file is needed.\n",
    "- for Section 2:\n",
    "    * `data/treasury_quotes_clean_2024-12-31.xlsx`, sheet `selected quotes`."
   ]
  },
  {
   "cell_type": "markdown",
   "metadata": {},
   "source": [
    "## Scoring\n",
    "\n",
    "| Problem | Points |\n",
    "|---------|--------|\n",
    "| 1       | 70     |\n",
    "| 2       | 30     |"
   ]
  },
  {
   "cell_type": "markdown",
   "metadata": {},
   "source": [
    "***"
   ]
  },
  {
   "cell_type": "markdown",
   "metadata": {},
   "source": [
    "## Submitting your Exam"
   ]
  },
  {
   "cell_type": "markdown",
   "metadata": {},
   "source": [
    "Submission\n",
    "* You will upload your solution to the `Exam - Open` assignment on Canvas. \n",
    "* Submit a compressed, \"zipped\", folder containing all code according to the file structure below.\n",
    "* Name your submitted, zipped, folder `exam-open-LASTNAME-FIRSTNAME.zip`.\n",
    "* Be sure to **submit** on Canvas, not just **save** on Canvas.\n",
    "\n",
    "Your submission should **include all code and data used in your analysis** in the following folder structure.\n",
    "* We strongly prefer all submissions are structred this way, and it will improve grading accuracy for partial credit. \n",
    "* Still, if you're struggling to get this working in time, no worries; just structure as comfortable and submit **everything used** for your submission."
   ]
  },
  {
   "cell_type": "markdown",
   "metadata": {},
   "source": [
    "__Exam Submission Structure:__\n",
    "\n",
    "```plaintext\n",
    "exam-open-LASTNAME-FIRSTNAME.zip/\n",
    "│── exam-open.ipynb\n",
    "│── data/\n",
    "│   ├── example_data.csv\n",
    "│── modules/\n",
    "│   ├── my_functions.py"
   ]
  },
  {
   "cell_type": "markdown",
   "metadata": {},
   "source": [
    "### Validating your folder structure\n",
    "\n",
    "The next cell tests that you have this folder structure implemented."
   ]
  },
  {
   "cell_type": "code",
   "execution_count": null,
   "metadata": {},
   "outputs": [],
   "source": [
    "from pathlib import Path\n",
    "import sys\n",
    "import pandas as pd\n",
    "\n",
    "# Get the directory of the notebook (assumes Jupyter Notebook is always used)\n",
    "BASE_DIR = Path().resolve()\n",
    "\n",
    "# Define paths for data and modules\n",
    "DATA_DIR = BASE_DIR / \"data\"\n",
    "MODULES_DIR = BASE_DIR / \"modules\"\n",
    "\n",
    "# Check if expected directories exist\n",
    "if not DATA_DIR.exists():\n",
    "    print(f\"Warning: Data directory '{DATA_DIR}' not found. Check your file structure.\")\n",
    "\n",
    "if not MODULES_DIR.exists():\n",
    "    print(f\"Warning: Modules directory '{MODULES_DIR}' not found. Check your file structure.\")\n",
    "\n",
    "# Ensure Python can import from the modules directory\n",
    "if str(MODULES_DIR) not in sys.path:\n",
    "    sys.path.append(str(MODULES_DIR))\n",
    "\n",
    "# Load exam data\n",
    "EXAMPLE_DATA_PATH = DATA_DIR / \"example_data.csv\"\n",
    "\n",
    "if EXAMPLE_DATA_PATH.exists():\n",
    "    example_data = pd.read_csv(EXAMPLE_DATA_PATH)\n",
    "else:\n",
    "    print(f\"Warning: '{EXAMPLE_DATA_PATH.name}' not found. Ensure it's in the correct directory.\")\n"
   ]
  },
  {
   "cell_type": "markdown",
   "metadata": {},
   "source": [
    "***"
   ]
  },
  {
   "cell_type": "markdown",
   "metadata": {},
   "source": [
    "# 1. The \"Steepener\" Trade\n",
    "\n",
    "A popular trade in 2024 was the 2s10s \"steepener\" trade, which was a trade designed to capture the changes in the slope of yield curve while being hedged to parallel shifts in it. In particular, the trade believes that the 2-year treasury yield is too high relative to the 10-year treasury yield. We will replicate this trade.\n",
    "\n",
    "`Initial date:` July 1st, 2024 (corresponding to $t=0$)\n",
    "\n",
    "__2-year Bond:__\n",
    "- `Time To Maturity:` 2 years\n",
    "- `Coupon Frequency:` semi-annual\n",
    "- `Coupon Rate:` 4%\n",
    "- `Annualized semi-annual YTM:` 4.74%\n",
    "\n",
    "__10-year Bond:__\n",
    "- `Time To Maturity:` 10 years\n",
    "- `Coupon Frequency:` semi-annual\n",
    "- `Coupon Rate:` 2%\n",
    "- `Annualized semi-annual YTM:` 4.44%\n",
    "\n",
    "__Note__: Assume that coupons are paid exactly at the $t=0.5, 1, 1.5, ...$ year marks. "
   ]
  },
  {
   "cell_type": "markdown",
   "metadata": {},
   "source": [
    "### 1.1. (5pts)\n",
    "Based on the given information, report the dirty price of each bond as of $t=0$ assuming a face value of $100. Display your answer rounded to 4 decimal places."
   ]
  },
  {
   "cell_type": "markdown",
   "metadata": {},
   "source": [
    "### 1.2. (5pts)\n",
    "\n",
    "Report the modified duration and modified-dollar-duration for each bond. Calculate these modified duration values with respect to changes in the quoted semi-annual YTM. Display your answer rounded to 4 decimal places."
   ]
  },
  {
   "cell_type": "markdown",
   "metadata": {},
   "source": [
    "### 1.3. (15pts)\n",
    "We want to construct our portfolio in a modified-dollar-duration neutral fashion such that we are well hedged to parallel moves in the yield curve. \n",
    "\n",
    "Using the results from `1.2`, construct a portfolio aligned with the trade thesis that the YTM spread will converge, and go long one bond and short the other. \n",
    "\n",
    "Size the portfolio.\n",
    "* Your position has a $1,000 (modified duration) exposure to a symmetric 1 basis-point convergence in the YTM spread.\n",
    "* Assume the spread converges evenly, with 0.5bp convergence on each side.\n",
    "* We assume no leverage is used. \n",
    "\n",
    "Report your position in each bond as:\n",
    "* the notional amount.\n",
    "* the market value.\n",
    "* the number of bond contracts (assuming each contract has a face/par value of $100).\n",
    "\n",
    "Display your answers rounded to the nearest integer."
   ]
  },
  {
   "cell_type": "markdown",
   "metadata": {},
   "source": [
    "### 1.4. (10pts)\n",
    "\n",
    "Assume we are now at $t=0.05$, and the bond yields have now moved.\n",
    "\n",
    "__2-year Bond:__\n",
    "- `Annualized semi-annual YTM:` 4.32%\n",
    "\n",
    "__10-year Bond:__\n",
    "- `Annualized semi-annual YTM:` 4.14%\n",
    "\n",
    "For each bond, report the new dirty price and clean price. Display your answer rounded to 4 decimal places."
   ]
  },
  {
   "cell_type": "markdown",
   "metadata": {},
   "source": [
    "### 1.5. (10pts)\n",
    "\n",
    "Still at $t=0.05$, report the profit-and-loss **(PnL)** of each position, and also for the entire portfolio, using:\n",
    "* Duration (first-order YTM changes).\n",
    "\n",
    "Use the $t=0$ modified-dollar-duration values from part `1.2`. \n",
    "\n",
    "Display your answer rounded to 4 decimal places."
   ]
  },
  {
   "cell_type": "markdown",
   "metadata": {},
   "source": [
    "### 1.6 (10pts)\n",
    "\n",
    "Repeat `1.5`, but this time uapproximating the PnL using\n",
    "* Duration + convexity"
   ]
  },
  {
   "cell_type": "markdown",
   "metadata": {},
   "source": [
    "### 1.7. (5pts)\n",
    "\n",
    "Repeat `1.5`, but this time calculating the PnL via\n",
    "* full repricing (using your pricing results from part `1.4`.)\n",
    "\n",
    "Display the comparison of the PnL across the three methods of `1.5`, `1.6`, and `1.7`."
   ]
  },
  {
   "cell_type": "markdown",
   "metadata": {},
   "source": [
    "### 1.8 (5 pts)\n",
    "\n",
    "* What do the results from `1.6` capture that `1.5` does not, and why might this be important to consider?\n",
    "* For any change in the YTM spread, do we expect the first order P/L estimate to always underestimate or overestimate the second order P/L estimate? Explain your reasoning."
   ]
  },
  {
   "cell_type": "markdown",
   "metadata": {},
   "source": [
    "### 1.9 (5pts)\n",
    "\n",
    "Name two things the results from `1.7` capture that `1.6` does not."
   ]
  },
  {
   "cell_type": "markdown",
   "metadata": {},
   "source": [
    "***"
   ]
  },
  {
   "cell_type": "markdown",
   "metadata": {},
   "source": [
    "# 2. Extracting Curves"
   ]
  },
  {
   "cell_type": "markdown",
   "metadata": {},
   "source": [
    "Use the selected treasury quotes in the file, `treasury_quotes_clean_2024-12-31.xlsx`, using sheet `selected quotes`.\n",
    "\n",
    "* Market quotes are provided for treasury securities expiring approximately every six months over the next `7` years.\n",
    "* You are welcome to assume that they mature at exaclty six-year increments or to use the exact dates.\n",
    "* Consider the `price` column to represent the dirty mid price."
   ]
  },
  {
   "cell_type": "code",
   "execution_count": null,
   "metadata": {},
   "outputs": [],
   "source": [
    "import pandas as pd\n",
    "import numpy as np"
   ]
  },
  {
   "cell_type": "code",
   "execution_count": null,
   "metadata": {},
   "outputs": [],
   "source": [
    "filepath = '../data/treasury_quotes_clean_2024-12-31.xlsx'\n",
    "SHEET = 'selected quotes'\n",
    "quotes = pd.read_excel(filepath,sheet_name=SHEET).set_index('KYTREASNO')\n",
    "quotes"
   ]
  },
  {
   "cell_type": "markdown",
   "metadata": {},
   "source": [
    "### 2.1. (15pts)\n",
    "\n",
    "Bootstrap the spot curve. \n",
    "\n",
    "For maturity `T=5`, report\n",
    "* the discount factor\n",
    "* the semiannually-compounded discount rate\n",
    "* the continuously-compounded discount rate\n",
    "\n",
    "Round your answers to four decimal places."
   ]
  },
  {
   "cell_type": "markdown",
   "metadata": {},
   "source": [
    "### 2.2. (10pts)\n",
    "\n",
    "Use the bootstrapped spot curves to calculate the forward curves.\n",
    "\n",
    "For maturity $T_1=5 \\rightarrow T_2=5.5$, report\n",
    "* the forward discount factor.\n",
    "* the semiannually-compounded forward rate.\n",
    "* the continuously-compounded forward rate.\n",
    "\n",
    "Round your answers to four decimal places."
   ]
  },
  {
   "cell_type": "markdown",
   "metadata": {},
   "source": [
    "### 2.3. (5pts)\n",
    "\n",
    "For which maturity ($T_1$ and $T_2$) is the forward rate highest?"
   ]
  },
  {
   "cell_type": "markdown",
   "metadata": {},
   "source": [
    "***"
   ]
  }
 ],
 "metadata": {
  "kernelspec": {
   "display_name": "Python 3 (ipykernel)",
   "language": "python",
   "name": "python3"
  },
  "language_info": {
   "codemirror_mode": {
    "name": "ipython",
    "version": 3
   },
   "file_extension": ".py",
   "mimetype": "text/x-python",
   "name": "python",
   "nbconvert_exporter": "python",
   "pygments_lexer": "ipython3",
   "version": "3.9.6"
  }
 },
 "nbformat": 4,
 "nbformat_minor": 4
}
