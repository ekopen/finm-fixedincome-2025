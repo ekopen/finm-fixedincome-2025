{
 "cells": [
  {
   "cell_type": "markdown",
   "id": "7e655bd1",
   "metadata": {},
   "source": [
    "# Homework 4\n",
    "\n",
    "## FINM 37400 - 2025\n",
    "\n",
    "### UChicago Financial Mathematics\n",
    "\n",
    "* Mark Hendricks\n",
    "* hendricks@uchicago.edu"
   ]
  },
  {
   "cell_type": "markdown",
   "id": "32941020",
   "metadata": {},
   "source": [
    "***"
   ]
  },
  {
   "cell_type": "markdown",
   "id": "7189eb0e",
   "metadata": {},
   "source": [
    "# 1 HBS Case: The Information Content of the Yield Curve"
   ]
  },
  {
   "cell_type": "markdown",
   "id": "a062f40d",
   "metadata": {},
   "source": [
    "## 1.1\n",
    "\n",
    "The Term Spread\n",
    "* What is the term spread? \n",
    "* What is the preferred measure of the term spread in the case?\n",
    "* What evidence is cited for the term spread's power in predicting recessions?\n",
    "* Which is more important, the level of the term spread, its month-over-month change, or the level of short rates?\n",
    "\n",
    "Using the file `yields.xlsx`, calculate the term spread at the end of the sample.\n",
    "* What does this term spread suggest about economic growth, according to the evidence of Estrella?"
   ]
  },
  {
   "cell_type": "markdown",
   "id": "f114c7f6",
   "metadata": {},
   "source": [
    "***"
   ]
  },
  {
   "cell_type": "markdown",
   "id": "33594f44",
   "metadata": {},
   "source": [
    "**The term spread is the difference between long-term and short-term interest rates.**\n",
    "\n",
    "**The case uses the 10-year Treasury bond yield minus the 3-month Treasury bill yield as the preferred measure.**\n",
    "\n",
    "\n",
    "**The Federal Reserve found that an inverted yield curve (meaning a negative term spread) has preceded nearly every recession since 1950.**\n",
    "\n",
    "**The level of the term spread is the most important because a persistently low or negative spread strongly signals a potential recession, while short-term changes/absolute level of short rates are less predictive.**"
   ]
  },
  {
   "cell_type": "code",
   "execution_count": 8,
   "id": "98c29a55",
   "metadata": {},
   "outputs": [
    {
     "data": {
      "text/html": [
       "<div>\n",
       "<style scoped>\n",
       "    .dataframe tbody tr th:only-of-type {\n",
       "        vertical-align: middle;\n",
       "    }\n",
       "\n",
       "    .dataframe tbody tr th {\n",
       "        vertical-align: top;\n",
       "    }\n",
       "\n",
       "    .dataframe thead th {\n",
       "        text-align: right;\n",
       "    }\n",
       "</style>\n",
       "<table border=\"1\" class=\"dataframe\">\n",
       "  <thead>\n",
       "    <tr style=\"text-align: right;\">\n",
       "      <th></th>\n",
       "      <th>caldt</th>\n",
       "      <th>1</th>\n",
       "      <th>2</th>\n",
       "      <th>5</th>\n",
       "      <th>7</th>\n",
       "      <th>10</th>\n",
       "      <th>20</th>\n",
       "      <th>30</th>\n",
       "    </tr>\n",
       "  </thead>\n",
       "  <tbody>\n",
       "    <tr>\n",
       "      <th>15863</th>\n",
       "      <td>2024-12-24</td>\n",
       "      <td>4.263383</td>\n",
       "      <td>4.288041</td>\n",
       "      <td>4.395862</td>\n",
       "      <td>4.481357</td>\n",
       "      <td>4.531450</td>\n",
       "      <td>4.842907</td>\n",
       "      <td>4.712979</td>\n",
       "    </tr>\n",
       "    <tr>\n",
       "      <th>15864</th>\n",
       "      <td>2024-12-26</td>\n",
       "      <td>4.245134</td>\n",
       "      <td>4.282515</td>\n",
       "      <td>4.378693</td>\n",
       "      <td>4.460309</td>\n",
       "      <td>4.522614</td>\n",
       "      <td>4.836411</td>\n",
       "      <td>4.712016</td>\n",
       "    </tr>\n",
       "    <tr>\n",
       "      <th>15865</th>\n",
       "      <td>2024-12-27</td>\n",
       "      <td>4.220121</td>\n",
       "      <td>4.268950</td>\n",
       "      <td>4.404594</td>\n",
       "      <td>4.493999</td>\n",
       "      <td>4.567839</td>\n",
       "      <td>4.888583</td>\n",
       "      <td>4.763756</td>\n",
       "    </tr>\n",
       "    <tr>\n",
       "      <th>15866</th>\n",
       "      <td>2024-12-30</td>\n",
       "      <td>4.203386</td>\n",
       "      <td>4.206418</td>\n",
       "      <td>4.318682</td>\n",
       "      <td>4.410217</td>\n",
       "      <td>4.489640</td>\n",
       "      <td>4.827387</td>\n",
       "      <td>4.712148</td>\n",
       "    </tr>\n",
       "    <tr>\n",
       "      <th>15867</th>\n",
       "      <td>2024-12-31</td>\n",
       "      <td>4.170459</td>\n",
       "      <td>4.181058</td>\n",
       "      <td>4.339915</td>\n",
       "      <td>4.431660</td>\n",
       "      <td>4.525234</td>\n",
       "      <td>4.801754</td>\n",
       "      <td>4.734187</td>\n",
       "    </tr>\n",
       "  </tbody>\n",
       "</table>\n",
       "</div>"
      ],
      "text/plain": [
       "           caldt         1         2         5         7        10        20  \\\n",
       "15863 2024-12-24  4.263383  4.288041  4.395862  4.481357  4.531450  4.842907   \n",
       "15864 2024-12-26  4.245134  4.282515  4.378693  4.460309  4.522614  4.836411   \n",
       "15865 2024-12-27  4.220121  4.268950  4.404594  4.493999  4.567839  4.888583   \n",
       "15866 2024-12-30  4.203386  4.206418  4.318682  4.410217  4.489640  4.827387   \n",
       "15867 2024-12-31  4.170459  4.181058  4.339915  4.431660  4.525234  4.801754   \n",
       "\n",
       "             30  \n",
       "15863  4.712979  \n",
       "15864  4.712016  \n",
       "15865  4.763756  \n",
       "15866  4.712148  \n",
       "15867  4.734187  "
      ]
     },
     "execution_count": 8,
     "metadata": {},
     "output_type": "execute_result"
    }
   ],
   "source": [
    "import pandas as pd\n",
    "\n",
    "yields_df = pd.read_excel(\"../data/yields.xlsx\")\n",
    "yields_df.tail()"
   ]
  },
  {
   "cell_type": "code",
   "execution_count": 9,
   "id": "3e8faa0a",
   "metadata": {},
   "outputs": [
    {
     "data": {
      "text/plain": [
       "0.3547751607569998"
      ]
     },
     "execution_count": 9,
     "metadata": {},
     "output_type": "execute_result"
    }
   ],
   "source": [
    "latest_data = yields_df.iloc[-1]\n",
    "term_spread = latest_data[10] - latest_data[1] #we are making the assumption 1 means a 3 month t bill\n",
    "term_spread"
   ]
  },
  {
   "cell_type": "markdown",
   "id": "8c610ee0",
   "metadata": {},
   "source": [
    "**Estrella's evidence suggests that a positive spread (in this case ~0.35) indicates strong economic growth over the next 4 to 6 quarters.**"
   ]
  },
  {
   "cell_type": "markdown",
   "id": "2b020235",
   "metadata": {},
   "source": [
    "## 1.2\n",
    "\n",
    "Term premia\n",
    "* What is the term premium? Why is it impossible to get a direct measure of it?\n",
    "* Explain equations (1) and (2). Why does Sacks think this concept of the term spread complicates the relationship found by Estrella?"
   ]
  },
  {
   "cell_type": "markdown",
   "id": "8caa380b",
   "metadata": {},
   "source": [
    "**The term premium is the extra return investors demand for holding long-term bonds instead of rolling over short-term bonds. We can't observe it because it depends on investor expectations/risk perceptions which can't be directly measured**\n",
    "\n",
    "**As for the equations, Eq. 1 shows the 10 yr interest rate should be a sum of short term interest rates plus term premium. Eq. 2 shows the term spread equals the expected changes in short term rates plus the term premium.**\n",
    "\n",
    "**Sack argues that if the term spread changes because of shifts in the term premium rather than expected short-term rates, the yield curve becomes less reliable for predicting economic growth. This weakens Estrella’s recession forecasts.**"
   ]
  },
  {
   "cell_type": "markdown",
   "id": "0d2e8a94",
   "metadata": {},
   "source": [
    "## 1.3\n",
    "\n",
    "Though this case touches on monetary policy, that is not our focus. Rather, our focus is the degree to which the current shape of the yield curve is predictive of future short-term interest rates.\n",
    "\n",
    "Suppose the term premium is zero. \n",
    "* What does a downward-sloping yield curve predict about future short-term rates? \n",
    "* In this case, is it risky to hold long-term bonds or short-term bonds? Is this risk compensated?\n",
    "\n",
    "Suppose the term premium increases 5 percentage points.\n",
    "* What would change about your previous answer?"
   ]
  },
  {
   "cell_type": "markdown",
   "id": "11c152db",
   "metadata": {},
   "source": [
    "**If the term premium is zero, a downward-sloping yield curve predicts that future short-term rates will decline. In this case, long-term bonds are riskier because their prices drop if rates rise, but this risk is not compensated since the term premium is zero.**\n",
    "\n",
    "**If the term premium increases by 5 percentage points, long-term bonds would now offer higher yields, compensating investors for holding them despite the risk.**"
   ]
  },
  {
   "cell_type": "markdown",
   "id": "09b12a1a",
   "metadata": {},
   "source": [
    "# 2 Forward Curve from the Spot Curve"
   ]
  },
  {
   "cell_type": "markdown",
   "id": "da4638e8",
   "metadata": {},
   "source": [
    "Use the data in `'../data/treasury_quotes_2024-10-31.xlsx`, focusing on the selected data found in the sheet `selected quotes`."
   ]
  },
  {
   "cell_type": "markdown",
   "id": "6c5d5768",
   "metadata": {},
   "source": [
    "### 2.1 \n",
    "Bootstrap the discount factor. \n",
    "\n",
    "Plot the answer in terms of discount factors and discount rates.\n",
    "\n",
    "Though the time-to-maturity (ttm) is not spaced exactly at 6 months, for the purposes of this problem, you are welcome to approximate that they are spaced at exact 6-month intervals.\n",
    "\n",
    "\n",
    "### 2.2\n",
    "Calculate and plot the forward discount factors from $T$ to $T+0.5$, ranging $T$ from 0.5 through 6.5.\n",
    "\n",
    "\n",
    "### 2.3\n",
    "Use the forward discount factors to calculate the `semiannually` compounded forward **rates**.\n",
    "\n",
    "Plot the curve.\n",
    "\n",
    "#### 2.4\n",
    "\n",
    "Specifically report the forward-rate values from \n",
    "\n",
    "* $T_1=0.5$ to $T_2=1$.\n",
    "* $T_1=3.5$ to $T_2=4$."
   ]
  },
  {
   "cell_type": "markdown",
   "id": "b826f2ed",
   "metadata": {},
   "source": [
    "***"
   ]
  },
  {
   "cell_type": "markdown",
   "id": "53593ba8",
   "metadata": {},
   "source": [
    "# 3. Forward Discount Factors, Forward Rates, and Evolving Spot Rates"
   ]
  },
  {
   "cell_type": "markdown",
   "id": "02ce8e3d",
   "metadata": {},
   "source": [
    "Use the data set `famabliss_strips_2024-12-31.xlsx`.\n",
    "\n",
    "It gives prices on **zero coupon bonds** with maturities of 1 through 5 years.\n",
    "* These are prices per $1 face value on bonds that only pay principal.\n",
    "* Such bonds can be created from treasuries by stripping out their coupons.\n",
    "* In essence, you can consider these prices as the discount factors $Z$, for maturity intervals 1 through 5 years.\n",
    "\n",
    "In this problem, we focus on six dates: the month of `December` in `2020` through `2024`."
   ]
  },
  {
   "cell_type": "markdown",
   "id": "eea1a0ca",
   "metadata": {},
   "source": [
    "### 3.1\n",
    "\n",
    "For each of the dates, (`Dec 2020`, ..., `Dec 2024`), calculate the forward discount factor, $F(t,T_1,T_2)$, where $T_2 = T_1 + 1$ for $1\\le T_1\\le 4$.\n",
    "\n",
    "Make a plot of the curve $F$ at each of these six dates."
   ]
  },
  {
   "cell_type": "markdown",
   "id": "a58c58aa",
   "metadata": {},
   "source": [
    "### 3.2\n",
    "\n"
   ]
  },
  {
   "cell_type": "markdown",
   "id": "085ba139",
   "metadata": {},
   "source": [
    "Use $F$ above to calculate the continuously compounded forward rates, $f$, on each date.\n",
    "\n",
    "Make a plot of the curve, $f$, at each of these dates."
   ]
  },
  {
   "cell_type": "markdown",
   "id": "97abe40d",
   "metadata": {},
   "source": [
    "### 3.3\n",
    "\n",
    "Calculate the continuously compounded spot rates, $r$, at these dates.\n",
    "\n",
    "Plot both the forward curve and the spot curve on the date of `Dec 2020`.\n",
    "\n",
    "Recall that $f(t,t,t+1) = r(t,t+1)$."
   ]
  },
  {
   "cell_type": "markdown",
   "id": "8e3ba4d0",
   "metadata": {},
   "source": [
    "### 3.4\n",
    "\n",
    "Plot the forward curve on `Dec 2020` against the time-series evolution of $r(t,t+1)$ for dates $t$ between `Dec 2020` and `Dec 2024`.\n",
    "\n",
    "How does the evolution of one-year rates between `2020-2024` compare to the forward rates of `2020`?"
   ]
  },
  {
   "cell_type": "markdown",
   "id": "a876093f",
   "metadata": {},
   "source": [
    "***"
   ]
  }
 ],
 "metadata": {
  "hide_input": false,
  "kernelspec": {
   "display_name": "base",
   "language": "python",
   "name": "python3"
  },
  "language_info": {
   "codemirror_mode": {
    "name": "ipython",
    "version": 3
   },
   "file_extension": ".py",
   "mimetype": "text/x-python",
   "name": "python",
   "nbconvert_exporter": "python",
   "pygments_lexer": "ipython3",
   "version": "3.12.4"
  }
 },
 "nbformat": 4,
 "nbformat_minor": 5
}
