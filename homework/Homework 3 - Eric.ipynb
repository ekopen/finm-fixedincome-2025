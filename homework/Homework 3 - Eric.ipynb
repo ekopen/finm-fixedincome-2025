{
 "cells": [
  {
   "cell_type": "markdown",
   "id": "bac929b8",
   "metadata": {},
   "source": [
    "# Homework 3\n",
    "\n",
    "## FINM 37400 - 2025\n",
    "\n",
    "### UChicago Financial Mathematics\n",
    "\n",
    "* Mark Hendricks\n",
    "* hendricks@uchicago.edu"
   ]
  },
  {
   "cell_type": "markdown",
   "id": "7b03c2b8",
   "metadata": {},
   "source": [
    "***"
   ]
  },
  {
   "cell_type": "markdown",
   "id": "42647704",
   "metadata": {},
   "source": [
    "# 1 HBS Case: Fixed-Income Arbitrage in a Financial Crisis (C): Spread and Swap Spread in November 2008"
   ]
  },
  {
   "cell_type": "markdown",
   "id": "20d04ae8",
   "metadata": {},
   "source": [
    "## Simplification of the setup\n",
    "\n",
    "The date is Nov 4, 2008.\n",
    "\n",
    "**Treasury bond**\n",
    "* Suppose the Treasury bond matures exactly 30 years later, on Nov 4, 2038 rather than May 15, 2008. \n",
    "* The YTM of this freshly issued treasury is 4.193\\% with a semiannual coupon of 4.50\\%, same as is given in the case. (So we're just changing the maturity date to simplify things, but keeping the market data.)\n",
    "\n",
    "**Swap**\n",
    "* The fixed leg of the swap pays semiannually, with swap rate of 4.2560\\%, as given in the case.\n",
    "* The floating leg of the swap also pays semiannually--not quarterly--such that the payment dates are identical on both legs. Thus, it also resets the floating rate semiannually, not quarterly.\n",
    "* The floating rate of the swap equals the repo rate used in the trade. Thus, these two rates cancel in the financing of the trade. (No need to consider the TED spread.) "
   ]
  },
  {
   "cell_type": "markdown",
   "id": "b4dc60d2",
   "metadata": {},
   "source": [
    "## Case Clarifications\n",
    "\n",
    "\n",
    "### Duration Quotes\n",
    "Bond\n",
    "* Quote: Val01 of bond is .1746 per bp per $1 face value\n",
    "* Class terminology: Modified dollar duration is .1746 per $100 face value\n",
    "\n",
    "Swap\n",
    "* Quote: DV01 of swap is 1.7mm per 1 billion notional.\n",
    "* Class terminology: Modified dollar duration is 100(1.7/1000) per $100 face value.\n",
    "\n",
    "Thus, modified dollar duration for each per 100 face is\n",
    "* Bond = .1746\n",
    "* Swap = .1700\n",
    "\n",
    "### Hedge Ratio\n",
    "\n",
    "In figuring out the hedge ratio, they set up the hedge per dollar of face value. \n",
    "\n",
    "    *so Mills would need to buy face amount $0.97 billion*\n",
    "    \n",
    "No, this hedge should be for market value, not face amount given that the case is already using **modified** duration which includes the dirty price.\n",
    "    \n",
    "\n",
    "### Maturity Mismatch\n",
    "\n",
    "The maturity of the bond is August 2038, whereas the date is Nov 2008. Thus, the bond has less than 30 years to maturity, yet he is entering a 30-year swap. \n",
    "\n",
    "For simplicity, we imagine the bond is issued in Nov 2008 and thus has maturity of 30 years at the time of the case.\n",
    "\n",
    "However, then the case quotes for the Nov price and YTM of the bond no longer are accurate. Use one and adjust the other. Namely, we could...\n",
    "    * use the Nov 4 **YTM** quoted in the case, and re-adjust the the bond.\n",
    "    * use the Nov 4 **price** quoted in the case, and re-adjust the YTM.\n",
    "    \n",
    "We do the former, keep the quoted YTM, assume time-to-maturity of `30`, and recalculate the Nov 2008 price. (It is close to the quoted price in the case.)"
   ]
  },
  {
   "cell_type": "markdown",
   "id": "88f4ddfa",
   "metadata": {},
   "source": [
    "***"
   ]
  },
  {
   "cell_type": "markdown",
   "id": "2b81df67",
   "metadata": {},
   "source": [
    "## 1.0.\n",
    "\n",
    "Report the price of the 30-year T-bond in Nov 2008. Given the discussion about `Maturity Mismatch`, we are repricing the bond, so it will not exactly equal `105` as reported in the case."
   ]
  },
  {
   "cell_type": "code",
   "execution_count": 66,
   "id": "578ab91a",
   "metadata": {},
   "outputs": [
    {
     "name": "stdout",
     "output_type": "stream",
     "text": [
      "Price $105.21\n"
     ]
    }
   ],
   "source": [
    "import numpy as np\n",
    "from scipy.optimize import fsolve\n",
    "\n",
    "ytm = 4.193 / 100  \n",
    "coupon_rate = 4.50 / 100\n",
    "face_value = 100\n",
    "years_to_maturity = 30\n",
    "coupons_per_year = 2\n",
    "\n",
    "def bond_price(estimate):\n",
    "    periods = years_to_maturity * coupons_per_year\n",
    "    coupon_payment = (coupon_rate / coupons_per_year) * face_value\n",
    "    discount_factors = [(1 + ytm / coupons_per_year) ** (-t) for t in range(1, periods + 1)]\n",
    "    present_value_coupons = sum([coupon_payment * df for df in discount_factors])\n",
    "    present_value_face = face_value * discount_factors[-1]\n",
    "\n",
    "    return present_value_coupons + present_value_face - estimate\n",
    "\n",
    "int_estimate = 105  \n",
    "bond_price_nov_2008 = fsolve(bond_price, int_estimate)[0]\n",
    "print(\"Price ${:,.2f}\".format(bond_price_nov_2008))"
   ]
  },
  {
   "cell_type": "markdown",
   "id": "48cc1866",
   "metadata": {},
   "source": [
    "## 1.1\n",
    "\n",
    "List the projected cashflows on May 4, 2009, exactly six months into the trade, on the first coupon and swap date.\n",
    "\n",
    "#### Clarification\n",
    "List these cashflows for face value of $1B, not the $0.97B noted in the case. As mentioned in \"Case Clarifications\", we will not use this number. Rather, we calculate our own hedge ratio in a problem below."
   ]
  },
  {
   "cell_type": "markdown",
   "id": "84a5820e",
   "metadata": {},
   "source": [
    "# There are two cash flows:\n",
    "# 1) Treasury Bond Coupon Payment: $22,500,000 (this is from the 4.50% coupon rate)\n",
    "# 2) Fixed Swap Payment $21,280,000 (this is from the 4.256% swap rate)"
   ]
  },
  {
   "cell_type": "markdown",
   "id": "2076b2c9",
   "metadata": {},
   "source": [
    "## 1.2\n",
    "\n",
    "What is the duration of...\n",
    "* the T-bond\n",
    "* the swap\n",
    "\n",
    "Remember that...\n",
    "* the swap can be decomposed into a fixed-rate bond and a floating-rate note\n",
    "* a floating-rate note has duration equal to the time until the next reset. Thus, at initialization, it has duration equal to 0.5 years.\n",
    "\n",
    "Is the duration for the \"paying-fixed\" swap positive or negative? Is it bigger or smaller in magnitude than the T-bond?\n",
    "\n",
    "For this problem, calculate the Macauley duration and the dollar (Macauley) duration."
   ]
  },
  {
   "cell_type": "code",
   "execution_count": 67,
   "id": "14ac65c4",
   "metadata": {},
   "outputs": [],
   "source": [
    "\n",
    "years_to_maturity = 30\n",
    "coupons_per_year = 2\n",
    "ytm = 4.193 / 100\n",
    "swap_rate = 4.256 / 100\n",
    "notional = 1_000_000_000\n",
    "coupon_payment = (coupon_rate / coupons_per_year) * face_value\n",
    "\n",
    "def macauley_duration(ytm, coupon_rate, face_value, years_to_maturity, coupons_per_year):\n",
    "    periods = years_to_maturity * coupons_per_year\n",
    "    discount_factors = [(1 + ytm / coupons_per_year) ** (-t) for t in range(1, periods + 1)]\n",
    "    time_factors = [(t / coupons_per_year) * df for t, df in zip(range(1, periods + 1), discount_factors)]\n",
    "    \n",
    "    pv_coupons = sum([coupon_payment * t for coupon_payment, t in zip([coupon_rate / coupons_per_year * face_value] * periods, time_factors)])\n",
    "    pv_face = face_value * discount_factors[-1] * years_to_maturity\n",
    "    price = sum([coupon_payment * df for df in discount_factors]) + face_value * discount_factors[-1]\n",
    "\n",
    "    return (pv_coupons + pv_face) / price\n",
    "\n",
    "macauley_duration_bond = macauley_duration(ytm, coupon_rate, face_value, years_to_maturity, coupons_per_year)\n",
    "macauley_duration_fixed_leg = macauley_duration(ytm, swap_rate, face_value, years_to_maturity, coupons_per_year)\n",
    "macauley_duration_floating_leg = 0.5\n",
    "macauley_duration_swap = macauley_duration_fixed_leg - macauley_duration_floating_leg\n",
    "\n",
    "dollar_duration_bond = macauley_duration_bond * (notional / 100)\n",
    "dollar_duration_swap = macauley_duration_swap * (notional / 100)"
   ]
  },
  {
   "cell_type": "code",
   "execution_count": 68,
   "id": "a007c8ed",
   "metadata": {},
   "outputs": [
    {
     "name": "stdout",
     "output_type": "stream",
     "text": [
      "Durations: \n",
      "Bond 17.08 \n",
      "Swap 16.10\n"
     ]
    }
   ],
   "source": [
    "print(\"Durations: \\nBond {:.2f} \\nSwap {:.2f}\".format(macauley_duration_bond, macauley_duration_swap))"
   ]
  },
  {
   "cell_type": "code",
   "execution_count": 69,
   "id": "bb6b0b18",
   "metadata": {},
   "outputs": [
    {
     "name": "stdout",
     "output_type": "stream",
     "text": [
      "Dollar Durations: \n",
      "Bond $170,836,331 \n",
      "Swap $161,025,427\n"
     ]
    }
   ],
   "source": [
    "print(\"Dollar Durations: \\nBond ${:,.0f} \\nSwap ${:,.0f}\".format(dollar_duration_bond, dollar_duration_swap))\n"
   ]
  },
  {
   "cell_type": "markdown",
   "id": "46917fe4",
   "metadata": {},
   "source": [
    "# The duration of the paying-fixed swap is positive, meaning that its value decreases when interest rates rise.\n",
    "\n",
    "# The magnitude of the swap's duration is smaller than the T-bond's duration, as the floating leg reduces overall duration."
   ]
  },
  {
   "cell_type": "markdown",
   "id": "2b944cf6",
   "metadata": {},
   "source": [
    "## 1.3\n",
    "\n",
    "What hedge ratio should be used to balance the notional size of the Treasury bond with the notional size of the swap, such that it is a duration-neutral position?\n",
    "\n",
    "Specifically, if the trader enters the swap paying fixed on \\$500 million notional, how large of a position should they take in the Treasury bond?"
   ]
  },
  {
   "cell_type": "code",
   "execution_count": 70,
   "id": "b0a0b481",
   "metadata": {},
   "outputs": [
    {
     "name": "stdout",
     "output_type": "stream",
     "text": [
      "Position in Treasury bond: $471,285,663\n"
     ]
    }
   ],
   "source": [
    "swap_notional = 500_000_000\n",
    "bond_notional = (swap_notional * macauley_duration_swap) / macauley_duration_bond\n",
    "bond_notional\n",
    "print(\"Position in Treasury bond: ${:,.0f}\".format(bond_notional))\n"
   ]
  },
  {
   "cell_type": "markdown",
   "id": "95877cb8",
   "metadata": {},
   "source": [
    "## 1.4\n",
    "\n",
    "Suppose it is May 4, 2009, exactly six months after putting the trade on.\n",
    "\n",
    "The spread is at -28 bps due to...\n",
    "* The YTM on a new 30-year bond has risen to 4.36\\%\n",
    "* The swap rate on a new 30-year swap has dropped to 4.08\\%\n",
    "\n",
    "Explain conceptually how this movement impacts the components of the trade."
   ]
  },
  {
   "cell_type": "markdown",
   "id": "864377ea",
   "metadata": {},
   "source": [
    "# The trade loses value because both components move against it. The Treasury bond price drops as yields rise, causing a loss on the long bond positio. Meanwhile, the swap loses value as the fixed rate declines, making the pay-fixed swap less favorable. Since the strategy relied on a widening spread, the further compression to -28 bps results in a net loss."
   ]
  },
  {
   "cell_type": "markdown",
   "id": "c8bf1f3a",
   "metadata": {},
   "source": [
    "## 1.5\n",
    "\n",
    "Calculate the value of the position on May 4, 2009, immediately after the first coupon and swap payments and swap reset. \n",
    "\n",
    "* Calculate the revised price of the Treasury bond by assuming you can apply the (May 4) 30-year YTM as a discount rate to the 29.5 year bond. (We are just using this for a rough approximation. You know that good pricing would require a discount curve, but let's not get bogged down with that here.)\n",
    "\n",
    "\n",
    "* Calculate the value of the swap by decomposing it into a fixed-rate bond and a floating-rate bond.\n",
    "    * The 29.5 year fixed-rate leg is priced using the (May 4) 30-year swap rate as a discount rate.\n",
    "    * The floating-rate leg is priced at par given that floating-rate notes are par immediately after resets.\n",
    "    \n",
    "**Note**\n",
    "\n",
    "You are being asked to calculate these valuations using the exact formula between price, cashflows, and YTM discount rate. We are not simply approximating with duration, as we already know the position was set up with zero dollar duration.\n",
    "\n",
    "From the Discussion notebook, we have this formula expressing a bond's price as a function of the coupon, $c$, and the YTM, $y_j$.\n",
    "\n",
    "$\\begin{align*}\n",
    "P_j(t,T,c) = \\sum_{i=1}^{n-1}\\frac{100\\left(\\frac{c}{2}\\right)}{\\left(1+\\frac{y_j}{2}\\right)^{2(T_i-t)}} + \\frac{100\\left(1+\\frac{c}{2}\\right)}{\\left(1+\\frac{y_j}{2}\\right)^{2(T-t)}}\n",
    "\\end{align*}\n",
    "$"
   ]
  },
  {
   "cell_type": "code",
   "execution_count": 71,
   "id": "e6e9ede6",
   "metadata": {},
   "outputs": [
    {
     "name": "stdout",
     "output_type": "stream",
     "text": [
      "Bond Price (May 2009): $102.31\n",
      "Swap Fixed Leg Price: $103.00\n",
      "Swap Value: $3.00\n",
      "Bond Position Value: $482,178,963\n",
      "Swap Position Value: $15,016,747\n",
      "Total Position Value: $497,195,710\n"
     ]
    }
   ],
   "source": [
    "ytm_may_2009 = 4.36 / 100\n",
    "swap_rate_may_2009 = 4.08 / 100\n",
    "years_to_maturity_may_2009 = 29.5\n",
    "\n",
    "def bond_price_exact(yield_rate, coupon_rate, years_to_maturity, face_value=100, coupons_per_year=2):\n",
    "    periods = int(years_to_maturity * coupons_per_year)\n",
    "    coupon_payment = (coupon_rate / coupons_per_year) * face_value\n",
    "    discount_factors = [(1 + yield_rate / coupons_per_year) ** (-2 * (t / coupons_per_year)) for t in range(1, periods + 1)]\n",
    "    price = sum([coupon_payment * df for df in discount_factors]) + face_value * discount_factors[-1]\n",
    "    \n",
    "    return price\n",
    "\n",
    "bond_price_may_2009 = bond_price_exact(ytm_may_2009, coupon_rate, years_to_maturity_may_2009)\n",
    "swap_fixed_leg_price = bond_price_exact(swap_rate_may_2009, swap_rate, years_to_maturity_may_2009)\n",
    "\n",
    "swap_floating_leg_price = 100\n",
    "swap_value = swap_fixed_leg_price - swap_floating_leg_price\n",
    "\n",
    "notional = 500_000_000\n",
    "bond_position_value = (bond_price_may_2009 / 100) * bond_notional\n",
    "swap_position_value = (swap_value / 100) * notional\n",
    "\n",
    "\n",
    "total_position_value = bond_position_value + swap_position_value\n",
    "\n",
    "print(f\"Bond Price (May 2009): ${bond_price_may_2009:,.2f}\")\n",
    "print(f\"Swap Fixed Leg Price: ${swap_fixed_leg_price:,.2f}\")\n",
    "print(f\"Swap Value: ${swap_value:,.2f}\")\n",
    "print(f\"Bond Position Value: ${bond_position_value:,.0f}\")\n",
    "print(f\"Swap Position Value: ${swap_position_value:,.0f}\")\n",
    "print(f\"Total Position Value: ${total_position_value:,.0f}\")\n"
   ]
  },
  {
   "cell_type": "markdown",
   "id": "7fba6574",
   "metadata": {},
   "source": [
    "## 1.6\n",
    "\n",
    "Accounting for the change in value of the positions, as well as the 6-month cashflows paid on May 4, \n",
    "* what is the net profit and loss (pnl) of the position?\n",
    "* what is the return on the equity capital, considering that there was a 2\\% haircut (equity contribution) on the size of the initial treasury bond position."
   ]
  },
  {
   "cell_type": "code",
   "execution_count": 72,
   "id": "02781bee",
   "metadata": {},
   "outputs": [
    {
     "name": "stdout",
     "output_type": "stream",
     "text": [
      "Net PnL: $-42,439,402\n",
      "Return on Equity: -427.94%\n"
     ]
    }
   ],
   "source": [
    "\n",
    "initial_bond_position_value = (bond_price_nov_2008 / 100) * bond_notional\n",
    "initial_swap_position_value = 0\n",
    "initial_total_position_value = initial_bond_position_value + initial_swap_position_value\n",
    "\n",
    "total_cashflows_paid = 22_500_000 + 21_280_000 #from previous question\n",
    "\n",
    "net_pnl = (total_position_value - initial_total_position_value) - total_cashflows_paid\n",
    "\n",
    "equity_capital = 0.02 * initial_bond_position_value\n",
    "\n",
    "return_on_equity = net_pnl / equity_capital\n",
    "\n",
    "print(f\"Net PnL: ${net_pnl:,.0f}\")\n",
    "print(f\"Return on Equity: {return_on_equity:.2%}\")\n"
   ]
  },
  {
   "cell_type": "markdown",
   "id": "948c9706",
   "metadata": {},
   "source": [
    "***"
   ]
  },
  {
   "cell_type": "markdown",
   "id": "633edb93",
   "metadata": {},
   "source": [
    "# 2. Factor Duration"
   ]
  },
  {
   "cell_type": "markdown",
   "id": "0f6e4aa6",
   "metadata": {},
   "source": [
    "### Data\n",
    "\n",
    "This problem uses data from,\n",
    "* `/data/yields.xlsx`\n",
    "* `/data/treasury_ts_duration_2024-10-31.xlsx`"
   ]
  },
  {
   "cell_type": "markdown",
   "id": "6127c1e5",
   "metadata": {},
   "source": [
    "#### Load Yields"
   ]
  },
  {
   "cell_type": "code",
   "execution_count": 73,
   "id": "69fbc7c2",
   "metadata": {},
   "outputs": [],
   "source": [
    "import pandas as pd\n",
    "\n",
    "filepath = '../data/yields.xlsx'\n",
    "yields = pd.read_excel(filepath, sheet_name='yields')\n",
    "yields.set_index('caldt',inplace=True)"
   ]
  },
  {
   "cell_type": "markdown",
   "id": "de979e9a",
   "metadata": {},
   "source": [
    "#### Load Prices and Durations of Two Treasuries"
   ]
  },
  {
   "cell_type": "code",
   "execution_count": 74,
   "id": "18b846dd",
   "metadata": {},
   "outputs": [
    {
     "data": {
      "text/html": [
       "<div>\n",
       "<style scoped>\n",
       "    .dataframe tbody tr th:only-of-type {\n",
       "        vertical-align: middle;\n",
       "    }\n",
       "\n",
       "    .dataframe tbody tr th {\n",
       "        vertical-align: top;\n",
       "    }\n",
       "\n",
       "    .dataframe thead th {\n",
       "        text-align: right;\n",
       "    }\n",
       "</style>\n",
       "<table border=\"1\" class=\"dataframe\">\n",
       "  <thead>\n",
       "    <tr style=\"text-align: right;\">\n",
       "      <th></th>\n",
       "      <th>type</th>\n",
       "      <th>issue date</th>\n",
       "      <th>maturity date</th>\n",
       "      <th>cpn rate</th>\n",
       "    </tr>\n",
       "    <tr>\n",
       "      <th>KYTREASNO</th>\n",
       "      <th></th>\n",
       "      <th></th>\n",
       "      <th></th>\n",
       "      <th></th>\n",
       "    </tr>\n",
       "  </thead>\n",
       "  <tbody>\n",
       "    <tr>\n",
       "      <th>207391</th>\n",
       "      <td>note</td>\n",
       "      <td>2019-08-15</td>\n",
       "      <td>2029-08-15</td>\n",
       "      <td>1.625</td>\n",
       "    </tr>\n",
       "    <tr>\n",
       "      <th>207392</th>\n",
       "      <td>bond</td>\n",
       "      <td>2019-08-15</td>\n",
       "      <td>2049-08-15</td>\n",
       "      <td>2.250</td>\n",
       "    </tr>\n",
       "  </tbody>\n",
       "</table>\n",
       "</div>"
      ],
      "text/plain": [
       "           type issue date maturity date  cpn rate\n",
       "KYTREASNO                                         \n",
       "207391     note 2019-08-15    2029-08-15     1.625\n",
       "207392     bond 2019-08-15    2049-08-15     2.250"
      ]
     },
     "execution_count": 74,
     "metadata": {},
     "output_type": "execute_result"
    }
   ],
   "source": [
    "QUOTE_DATE = '2024-10-31'\n",
    "filepath = f'../data/treasury_ts_duration_{QUOTE_DATE}.xlsx'\n",
    "\n",
    "data = pd.read_excel(filepath,sheet_name='database')\n",
    "data_info =  data.drop_duplicates(subset='KYTREASNO', keep='first').set_index('KYTREASNO')\n",
    "data_info[['type','issue date','maturity date','cpn rate']]"
   ]
  },
  {
   "cell_type": "markdown",
   "id": "28e8f46c",
   "metadata": {},
   "source": [
    "You will largely focus on the sheets which give the timeseries of prices and durations for each of the two securities, as shown in the following code."
   ]
  },
  {
   "cell_type": "code",
   "execution_count": 75,
   "id": "8724ba0a",
   "metadata": {},
   "outputs": [],
   "source": [
    "SHEET_PRICE = 'price'\n",
    "SHEET_DURATION = 'duration'\n",
    "INDEX_NAME = 'quote date'\n",
    "\n",
    "price = pd.read_excel(filepath,sheet_name=SHEET_PRICE).set_index(INDEX_NAME)\n",
    "duration = pd.read_excel(filepath,sheet_name=SHEET_DURATION).set_index(INDEX_NAME)"
   ]
  },
  {
   "cell_type": "markdown",
   "id": "08fd667b",
   "metadata": {},
   "source": [
    "### 2.1.\n",
    "\n",
    "Construct the following yield-curve factors from the `yields` data set:\n",
    "\n",
    "$\\begin{align}\n",
    "x^{\\text{level}}_t =& \\frac{1}{N_{\\text{yields}}}\\sum_{i=1}^{N_{\\text{yields}}} y^{(i)}_t\\\\\n",
    "x^{\\text{slope}}_t =& y^{(30)}_t - y^{(1)}_t\\\\\n",
    "x^{\\text{curvature}}_t =& -y^{(1)}_t + 2 y^{(10)}_t - y^{(30)}_t\n",
    "\\end{align}$"
   ]
  },
  {
   "cell_type": "code",
   "execution_count": 79,
   "id": "236174c0",
   "metadata": {},
   "outputs": [
    {
     "data": {
      "text/html": [
       "<div>\n",
       "<style scoped>\n",
       "    .dataframe tbody tr th:only-of-type {\n",
       "        vertical-align: middle;\n",
       "    }\n",
       "\n",
       "    .dataframe tbody tr th {\n",
       "        vertical-align: top;\n",
       "    }\n",
       "\n",
       "    .dataframe thead th {\n",
       "        text-align: right;\n",
       "    }\n",
       "</style>\n",
       "<table border=\"1\" class=\"dataframe\">\n",
       "  <thead>\n",
       "    <tr style=\"text-align: right;\">\n",
       "      <th></th>\n",
       "      <th>Level</th>\n",
       "      <th>Slope</th>\n",
       "      <th>Curvature</th>\n",
       "    </tr>\n",
       "    <tr>\n",
       "      <th>caldt</th>\n",
       "      <th></th>\n",
       "      <th></th>\n",
       "      <th></th>\n",
       "    </tr>\n",
       "  </thead>\n",
       "  <tbody>\n",
       "    <tr>\n",
       "      <th>1961-06-14</th>\n",
       "      <td>3.591027</td>\n",
       "      <td>0.879264</td>\n",
       "      <td>0.886559</td>\n",
       "    </tr>\n",
       "    <tr>\n",
       "      <th>1961-06-15</th>\n",
       "      <td>3.614691</td>\n",
       "      <td>0.893380</td>\n",
       "      <td>0.966721</td>\n",
       "    </tr>\n",
       "    <tr>\n",
       "      <th>1961-06-16</th>\n",
       "      <td>3.617360</td>\n",
       "      <td>0.900101</td>\n",
       "      <td>0.966566</td>\n",
       "    </tr>\n",
       "    <tr>\n",
       "      <th>1961-06-19</th>\n",
       "      <td>3.630646</td>\n",
       "      <td>0.916659</td>\n",
       "      <td>1.013983</td>\n",
       "    </tr>\n",
       "    <tr>\n",
       "      <th>1961-06-20</th>\n",
       "      <td>3.627267</td>\n",
       "      <td>0.892599</td>\n",
       "      <td>0.975574</td>\n",
       "    </tr>\n",
       "    <tr>\n",
       "      <th>...</th>\n",
       "      <td>...</td>\n",
       "      <td>...</td>\n",
       "      <td>...</td>\n",
       "    </tr>\n",
       "    <tr>\n",
       "      <th>2024-05-24</th>\n",
       "      <td>4.642343</td>\n",
       "      <td>-0.637884</td>\n",
       "      <td>-0.838863</td>\n",
       "    </tr>\n",
       "    <tr>\n",
       "      <th>2024-05-28</th>\n",
       "      <td>4.711880</td>\n",
       "      <td>-0.536670</td>\n",
       "      <td>-0.764817</td>\n",
       "    </tr>\n",
       "    <tr>\n",
       "      <th>2024-05-29</th>\n",
       "      <td>4.768430</td>\n",
       "      <td>-0.551893</td>\n",
       "      <td>-0.787602</td>\n",
       "    </tr>\n",
       "    <tr>\n",
       "      <th>2024-05-30</th>\n",
       "      <td>4.708726</td>\n",
       "      <td>-0.548852</td>\n",
       "      <td>-0.807237</td>\n",
       "    </tr>\n",
       "    <tr>\n",
       "      <th>2024-05-31</th>\n",
       "      <td>4.659759</td>\n",
       "      <td>-0.533040</td>\n",
       "      <td>-0.829506</td>\n",
       "    </tr>\n",
       "  </tbody>\n",
       "</table>\n",
       "<p>15723 rows × 3 columns</p>\n",
       "</div>"
      ],
      "text/plain": [
       "               Level     Slope  Curvature\n",
       "caldt                                    \n",
       "1961-06-14  3.591027  0.879264   0.886559\n",
       "1961-06-15  3.614691  0.893380   0.966721\n",
       "1961-06-16  3.617360  0.900101   0.966566\n",
       "1961-06-19  3.630646  0.916659   1.013983\n",
       "1961-06-20  3.627267  0.892599   0.975574\n",
       "...              ...       ...        ...\n",
       "2024-05-24  4.642343 -0.637884  -0.838863\n",
       "2024-05-28  4.711880 -0.536670  -0.764817\n",
       "2024-05-29  4.768430 -0.551893  -0.787602\n",
       "2024-05-30  4.708726 -0.548852  -0.807237\n",
       "2024-05-31  4.659759 -0.533040  -0.829506\n",
       "\n",
       "[15723 rows x 3 columns]"
      ]
     },
     "execution_count": 79,
     "metadata": {},
     "output_type": "execute_result"
    }
   ],
   "source": [
    "x_level = yields.mean(axis=1)\n",
    "x_slope = yields[30] - yields[1]\n",
    "x_curvature = -yields[1] + 2 * yields[10] - yields[30]\n",
    "\n",
    "yield_factors = pd.DataFrame({\n",
    "    'Level': x_level,\n",
    "    'Slope': x_slope,\n",
    "    'Curvature': x_curvature\n",
    "})\n",
    "\n",
    "yield_factors"
   ]
  },
  {
   "cell_type": "markdown",
   "id": "42d3a537",
   "metadata": {},
   "source": [
    "### 2.2\n",
    "\n",
    "Get the bond prices and durations for the two bonds in the data set referenced above.\n",
    "\n",
    "#### Align the data\n",
    "\n",
    "Align the bond pricing data with the yield factor data, so that you have data for both in the intersection of their dates.\n",
    "\n",
    "\n",
    "#### Estimate the regression\n",
    "\n",
    "Estimate the regression in the form of day-over-day differences for both bond prices and factors. That is, we are using regression to approximate the factor duration equation,\n",
    "\n",
    "$\\begin{align}\n",
    "\\frac{dP}{P} = \\alpha + \\beta_L dx_{\\text{level}} + \\beta_S dx_{\\text{slope}} + \\beta_C dx_{\\text{curvature}} + \\epsilon\n",
    "\\end{align}$\n",
    "\n",
    "Report the betas for each of these factors, for each of the bond prices."
   ]
  },
  {
   "cell_type": "code",
   "execution_count": 83,
   "id": "72570f57",
   "metadata": {},
   "outputs": [
    {
     "data": {
      "text/html": [
       "<div>\n",
       "<style scoped>\n",
       "    .dataframe tbody tr th:only-of-type {\n",
       "        vertical-align: middle;\n",
       "    }\n",
       "\n",
       "    .dataframe tbody tr th {\n",
       "        vertical-align: top;\n",
       "    }\n",
       "\n",
       "    .dataframe thead th {\n",
       "        text-align: right;\n",
       "    }\n",
       "</style>\n",
       "<table border=\"1\" class=\"dataframe\">\n",
       "  <thead>\n",
       "    <tr style=\"text-align: right;\">\n",
       "      <th></th>\n",
       "      <th>const</th>\n",
       "      <th>Level</th>\n",
       "      <th>Slope</th>\n",
       "      <th>Curvature</th>\n",
       "    </tr>\n",
       "  </thead>\n",
       "  <tbody>\n",
       "    <tr>\n",
       "      <th>207391</th>\n",
       "      <td>0.000062</td>\n",
       "      <td>-0.116812</td>\n",
       "      <td>-0.000012</td>\n",
       "      <td>-0.000023</td>\n",
       "    </tr>\n",
       "    <tr>\n",
       "      <th>207392</th>\n",
       "      <td>0.000112</td>\n",
       "      <td>-0.301905</td>\n",
       "      <td>-0.000089</td>\n",
       "      <td>-0.000048</td>\n",
       "    </tr>\n",
       "  </tbody>\n",
       "</table>\n",
       "</div>"
      ],
      "text/plain": [
       "           const     Level     Slope  Curvature\n",
       "207391  0.000062 -0.116812 -0.000012  -0.000023\n",
       "207392  0.000112 -0.301905 -0.000089  -0.000048"
      ]
     },
     "execution_count": 83,
     "metadata": {},
     "output_type": "execute_result"
    }
   ],
   "source": [
    "import statsmodels.api as sm\n",
    "\n",
    "aligned_data = price.merge(yield_factors, left_index=True, right_index=True, how='inner')\n",
    "aligned_data_pct_change = aligned_data.pct_change().dropna()\n",
    "\n",
    "X = aligned_data_pct_change[['Level', 'Slope', 'Curvature']]\n",
    "X = sm.add_constant(X)\n",
    "betas = {}\n",
    "\n",
    "for bond in price.columns:\n",
    "    y = aligned_data_pct_change[bond]\n",
    "    model = sm.OLS(y, X).fit()\n",
    "    betas[bond] = model.params\n",
    "\n",
    "betas_df = pd.DataFrame(betas).T\n",
    "\n",
    "betas_df\n"
   ]
  },
  {
   "cell_type": "markdown",
   "id": "4776f6e5",
   "metadata": {},
   "source": [
    "### 2.3.\n",
    "\n",
    "Compare the \"level\" factor beta for each of the two treasuries with the average  duration for each bond as reported in the data set.\n",
    "\n",
    "* How closely does the average duration for a bond compare to its \"level\" beta?\n",
    "* What do you conclude about the usefulness of mathematical duration vs regression sensitivities?"
   ]
  },
  {
   "cell_type": "code",
   "execution_count": 84,
   "id": "63d391b0",
   "metadata": {},
   "outputs": [
    {
     "data": {
      "text/html": [
       "<div>\n",
       "<style scoped>\n",
       "    .dataframe tbody tr th:only-of-type {\n",
       "        vertical-align: middle;\n",
       "    }\n",
       "\n",
       "    .dataframe tbody tr th {\n",
       "        vertical-align: top;\n",
       "    }\n",
       "\n",
       "    .dataframe thead th {\n",
       "        text-align: right;\n",
       "    }\n",
       "</style>\n",
       "<table border=\"1\" class=\"dataframe\">\n",
       "  <thead>\n",
       "    <tr style=\"text-align: right;\">\n",
       "      <th></th>\n",
       "      <th>Level Beta</th>\n",
       "      <th>Avg Duration</th>\n",
       "    </tr>\n",
       "  </thead>\n",
       "  <tbody>\n",
       "    <tr>\n",
       "      <th>207391</th>\n",
       "      <td>-0.116812</td>\n",
       "      <td>6.923664</td>\n",
       "    </tr>\n",
       "    <tr>\n",
       "      <th>207392</th>\n",
       "      <td>-0.301905</td>\n",
       "      <td>19.903216</td>\n",
       "    </tr>\n",
       "  </tbody>\n",
       "</table>\n",
       "</div>"
      ],
      "text/plain": [
       "        Level Beta  Avg Duration\n",
       "207391   -0.116812      6.923664\n",
       "207392   -0.301905     19.903216"
      ]
     },
     "execution_count": 84,
     "metadata": {},
     "output_type": "execute_result"
    }
   ],
   "source": [
    "avg_duration = duration.mean()\n",
    "\n",
    "comparison_df = pd.DataFrame({\n",
    "    'Level Beta': betas_df['Level'],\n",
    "    'Avg Duration': avg_duration\n",
    "})\n",
    "\n",
    "comparison_df"
   ]
  },
  {
   "cell_type": "markdown",
   "id": "7f7a884b",
   "metadata": {},
   "source": [
    "# Mathematical duration is a theoretical measure of bond price sensitivity to interest rates, but the regression betas (level beta) are much smaller, showing that real-world price movements are less sensitive than duration predicts. This difference suggests that factors like convexity, market liquidity, and hedging impact actual bond price behavior. While duration is useful for quick estimates, regression betas provide a more accurate realistic view of interest rate risk."
   ]
  },
  {
   "cell_type": "markdown",
   "id": "2df02787",
   "metadata": {},
   "source": [
    "### 2.4.\n",
    "\n",
    "In the duration-hedged trade of `Homework 2, Section 2`, was the that trade was long or short this slope factor? \n",
    "\n",
    "Do you think the slope factor exposure had a large impact on the trade?\n",
    "\n",
    "No new analysis needed, just draw a conclusion from the estimates above along with the trade construction in `HW 2, Sec 2`."
   ]
  },
  {
   "cell_type": "markdown",
   "id": "0325e7cc",
   "metadata": {},
   "source": [
    "# The trade was effectively short the slope factor, meaning it would benefit if the yield curve flattened and lose if it steepened. However, the small magnitude of the slope betas suggests that slope exposure had minimal impact on the trade's performance. Instead, the trade was primarily driven by changes in the level factor."
   ]
  },
  {
   "cell_type": "markdown",
   "id": "fcabcd0c",
   "metadata": {},
   "source": [
    "***"
   ]
  },
  {
   "cell_type": "markdown",
   "id": "9168eed2",
   "metadata": {},
   "source": [
    "# 3 Calculating Duration Via Individual Cashflows\n",
    "\n",
    "## *Optional, not submitted*"
   ]
  },
  {
   "cell_type": "markdown",
   "id": "432e95d6",
   "metadata": {},
   "source": [
    "Use the data file `../data/treasury_quotes_2024-10-31.xlsx`.\n",
    "\n",
    "### 3.1 \n",
    "Set up the cashflow matrix. \n",
    "\n",
    "### 3.2\n",
    "Extract the Nelson-Siegel spot discount curve, as you did in `Homework 1`.\n",
    "\n",
    "### 3.3\n",
    "For each treasury issue, calculate the duration as the weighted average of the (discounted!) cashflow maturity.\n",
    "\n",
    "Report the summary statistics of the durations. (Use `.describe()` from pandas.)\n",
    "\n",
    "### 3.4\n",
    "How close are your duration estimates to the imputed durations given in the data source?\n",
    "\n",
    "Report the summary statistics of the imputed durations minus your calculated durations from above.\n",
    "\n",
    "### 3.5\n",
    "Continue using your assumed discount rates of `4.5`\\% to calculate the convexity of each issue.\n",
    "\n",
    "Report the summary statistics of these convexity calculations."
   ]
  },
  {
   "cell_type": "markdown",
   "id": "d28e865d",
   "metadata": {},
   "source": [
    "***"
   ]
  }
 ],
 "metadata": {
  "hide_input": false,
  "kernelspec": {
   "display_name": "base",
   "language": "python",
   "name": "python3"
  },
  "language_info": {
   "codemirror_mode": {
    "name": "ipython",
    "version": 3
   },
   "file_extension": ".py",
   "mimetype": "text/x-python",
   "name": "python",
   "nbconvert_exporter": "python",
   "pygments_lexer": "ipython3",
   "version": "3.12.4"
  }
 },
 "nbformat": 4,
 "nbformat_minor": 5
}
