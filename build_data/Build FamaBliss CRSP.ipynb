{
 "cells": [
  {
   "cell_type": "markdown",
   "metadata": {},
   "source": [
    "# Build FamaBliss CRSP"
   ]
  },
  {
   "cell_type": "code",
   "execution_count": 1,
   "metadata": {},
   "outputs": [],
   "source": [
    "DATE = '2024-12-31'"
   ]
  },
  {
   "cell_type": "code",
   "execution_count": 2,
   "metadata": {},
   "outputs": [],
   "source": [
    "import pandas as pd\n",
    "import numpy as np\n",
    "from datetime import date"
   ]
  },
  {
   "cell_type": "code",
   "execution_count": 3,
   "metadata": {},
   "outputs": [],
   "source": [
    "import sys\n",
    "sys.path.insert(0, '../cmds')\n",
    "from treasury_cmds import process_wrds_treasury_data"
   ]
  },
  {
   "cell_type": "code",
   "execution_count": 4,
   "metadata": {},
   "outputs": [
    {
     "name": "stdout",
     "output_type": "stream",
     "text": [
      "Loading library list...\n",
      "Done\n"
     ]
    }
   ],
   "source": [
    "import wrds\n",
    "file_key = open(\"../../keys/wrds_username.txt\",\"r\")\n",
    "USERNAME = file_key.read()\n",
    "file_key.close()\n",
    "\n",
    "db = wrds.Connection(wrds_username=USERNAME)\n",
    "#db.create_pgpass_file()"
   ]
  },
  {
   "cell_type": "markdown",
   "metadata": {},
   "source": [
    "# Fama Bliss"
   ]
  },
  {
   "cell_type": "code",
   "execution_count": 5,
   "metadata": {},
   "outputs": [
    {
     "name": "stdout",
     "output_type": "stream",
     "text": [
      "Approximately 4355 rows in crsp_m_treasuries.tfz_mth_fb.\n"
     ]
    },
    {
     "data": {
      "text/html": [
       "<div>\n",
       "<style scoped>\n",
       "    .dataframe tbody tr th:only-of-type {\n",
       "        vertical-align: middle;\n",
       "    }\n",
       "\n",
       "    .dataframe tbody tr th {\n",
       "        vertical-align: top;\n",
       "    }\n",
       "\n",
       "    .dataframe thead th {\n",
       "        text-align: right;\n",
       "    }\n",
       "</style>\n",
       "<table border=\"1\" class=\"dataframe\">\n",
       "  <thead>\n",
       "    <tr style=\"text-align: right;\">\n",
       "      <th>maturity</th>\n",
       "      <th>1</th>\n",
       "      <th>2</th>\n",
       "      <th>3</th>\n",
       "      <th>4</th>\n",
       "      <th>5</th>\n",
       "    </tr>\n",
       "    <tr>\n",
       "      <th>date</th>\n",
       "      <th></th>\n",
       "      <th></th>\n",
       "      <th></th>\n",
       "      <th></th>\n",
       "      <th></th>\n",
       "    </tr>\n",
       "  </thead>\n",
       "  <tbody>\n",
       "    <tr>\n",
       "      <th>1952-06-30</th>\n",
       "      <td>0.981778</td>\n",
       "      <td>0.962531</td>\n",
       "      <td>0.942467</td>\n",
       "      <td>0.926341</td>\n",
       "      <td>0.904183</td>\n",
       "    </tr>\n",
       "    <tr>\n",
       "      <th>1952-07-31</th>\n",
       "      <td>0.980948</td>\n",
       "      <td>0.960315</td>\n",
       "      <td>0.939312</td>\n",
       "      <td>0.923089</td>\n",
       "      <td>0.898516</td>\n",
       "    </tr>\n",
       "    <tr>\n",
       "      <th>1952-08-29</th>\n",
       "      <td>0.980578</td>\n",
       "      <td>0.959750</td>\n",
       "      <td>0.937819</td>\n",
       "      <td>0.921458</td>\n",
       "      <td>0.895717</td>\n",
       "    </tr>\n",
       "    <tr>\n",
       "      <th>1952-09-30</th>\n",
       "      <td>0.980312</td>\n",
       "      <td>0.959098</td>\n",
       "      <td>0.937551</td>\n",
       "      <td>0.920961</td>\n",
       "      <td>0.891676</td>\n",
       "    </tr>\n",
       "    <tr>\n",
       "      <th>1952-10-31</th>\n",
       "      <td>0.981108</td>\n",
       "      <td>0.959745</td>\n",
       "      <td>0.937583</td>\n",
       "      <td>0.919290</td>\n",
       "      <td>0.897248</td>\n",
       "    </tr>\n",
       "    <tr>\n",
       "      <th>...</th>\n",
       "      <td>...</td>\n",
       "      <td>...</td>\n",
       "      <td>...</td>\n",
       "      <td>...</td>\n",
       "      <td>...</td>\n",
       "    </tr>\n",
       "    <tr>\n",
       "      <th>2024-08-30</th>\n",
       "      <td>0.957618</td>\n",
       "      <td>0.925447</td>\n",
       "      <td>0.894010</td>\n",
       "      <td>0.862266</td>\n",
       "      <td>0.831964</td>\n",
       "    </tr>\n",
       "    <tr>\n",
       "      <th>2024-09-30</th>\n",
       "      <td>0.961482</td>\n",
       "      <td>0.930623</td>\n",
       "      <td>0.899775</td>\n",
       "      <td>0.868140</td>\n",
       "      <td>0.837951</td>\n",
       "    </tr>\n",
       "    <tr>\n",
       "      <th>2024-10-31</th>\n",
       "      <td>0.958667</td>\n",
       "      <td>0.921233</td>\n",
       "      <td>0.884890</td>\n",
       "      <td>0.848150</td>\n",
       "      <td>0.814006</td>\n",
       "    </tr>\n",
       "    <tr>\n",
       "      <th>2024-11-29</th>\n",
       "      <td>0.959187</td>\n",
       "      <td>0.920923</td>\n",
       "      <td>0.885440</td>\n",
       "      <td>0.850418</td>\n",
       "      <td>0.817795</td>\n",
       "    </tr>\n",
       "    <tr>\n",
       "      <th>2024-12-31</th>\n",
       "      <td>0.959864</td>\n",
       "      <td>0.919585</td>\n",
       "      <td>0.880687</td>\n",
       "      <td>0.841768</td>\n",
       "      <td>0.804591</td>\n",
       "    </tr>\n",
       "  </tbody>\n",
       "</table>\n",
       "<p>871 rows × 5 columns</p>\n",
       "</div>"
      ],
      "text/plain": [
       "maturity           1         2         3         4         5\n",
       "date                                                        \n",
       "1952-06-30  0.981778  0.962531  0.942467  0.926341  0.904183\n",
       "1952-07-31  0.980948  0.960315  0.939312  0.923089  0.898516\n",
       "1952-08-29  0.980578  0.959750  0.937819  0.921458  0.895717\n",
       "1952-09-30  0.980312  0.959098  0.937551  0.920961  0.891676\n",
       "1952-10-31  0.981108  0.959745  0.937583  0.919290  0.897248\n",
       "...              ...       ...       ...       ...       ...\n",
       "2024-08-30  0.957618  0.925447  0.894010  0.862266  0.831964\n",
       "2024-09-30  0.961482  0.930623  0.899775  0.868140  0.837951\n",
       "2024-10-31  0.958667  0.921233  0.884890  0.848150  0.814006\n",
       "2024-11-29  0.959187  0.920923  0.885440  0.850418  0.817795\n",
       "2024-12-31  0.959864  0.919585  0.880687  0.841768  0.804591\n",
       "\n",
       "[871 rows x 5 columns]"
      ]
     },
     "execution_count": 5,
     "metadata": {},
     "output_type": "execute_result"
    }
   ],
   "source": [
    "db.describe_table(library='crsp_m_treasuries', table='tfz_mth_fb')\n",
    "\n",
    "SQL_QUERY = f'select * from crsp_m_treasuries.tfz_mth_fb'\n",
    "fb_raw = db.raw_sql(SQL_QUERY)\n",
    "fb = fb_raw.rename(columns={'mcaldt':'date','tmnomprc':'price','tmytm':'yld'})\n",
    "fb = fb.pivot_table(values='price',index='date',columns='kytreasnox')\n",
    "fb /= 100\n",
    "fb.rename(columns={2000047:1, 2000048:2, 2000049:3, 2000050:4, 2000051:5},inplace=True)\n",
    "fb.columns = fb.columns.astype(int)\n",
    "fb.columns.name = 'maturity'\n",
    "fb"
   ]
  },
  {
   "cell_type": "markdown",
   "metadata": {},
   "source": [
    "# Save to Excel"
   ]
  },
  {
   "cell_type": "code",
   "execution_count": 6,
   "metadata": {},
   "outputs": [],
   "source": [
    "outfile = f'../data/famabliss_strips_{DATE}.xlsx'\n",
    "with pd.ExcelWriter(outfile) as writer:\n",
    "    fb.to_excel(writer, sheet_name= 'prices', index=True)"
   ]
  },
  {
   "cell_type": "markdown",
   "metadata": {},
   "source": [
    "***"
   ]
  }
 ],
 "metadata": {
  "hide_input": false,
  "kernelspec": {
   "display_name": "Python 3 (ipykernel)",
   "language": "python",
   "name": "python3"
  },
  "language_info": {
   "codemirror_mode": {
    "name": "ipython",
    "version": 3
   },
   "file_extension": ".py",
   "mimetype": "text/x-python",
   "name": "python",
   "nbconvert_exporter": "python",
   "pygments_lexer": "ipython3",
   "version": "3.9.6"
  },
  "toc": {
   "base_numbering": 1,
   "nav_menu": {},
   "number_sections": false,
   "sideBar": true,
   "skip_h1_title": false,
   "title_cell": "Table of Contents",
   "title_sidebar": "Contents",
   "toc_cell": false,
   "toc_position": {},
   "toc_section_display": true,
   "toc_window_display": false
  }
 },
 "nbformat": 4,
 "nbformat_minor": 4
}
