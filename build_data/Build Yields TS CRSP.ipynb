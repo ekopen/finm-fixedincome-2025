{
 "cells": [
  {
   "cell_type": "code",
   "execution_count": 1,
   "metadata": {},
   "outputs": [
    {
     "name": "stdout",
     "output_type": "stream",
     "text": [
      "Loading library list...\n",
      "Done\n"
     ]
    }
   ],
   "source": [
    "import wrds\n",
    "file_key = open(\"../../keys/wrds_username.txt\",\"r\")\n",
    "USERNAME = file_key.read()\n",
    "file_key.close()\n",
    "\n",
    "db = wrds.Connection(wrds_username=USERNAME)\n",
    "#db.create_pgpass_file()"
   ]
  },
  {
   "cell_type": "code",
   "execution_count": 2,
   "metadata": {},
   "outputs": [],
   "source": [
    "import pandas as pd\n",
    "import numpy as np\n",
    "from datetime import date"
   ]
  },
  {
   "cell_type": "markdown",
   "metadata": {},
   "source": [
    "# Get Yield Curve Data (CRSP)"
   ]
  },
  {
   "cell_type": "code",
   "execution_count": 3,
   "metadata": {},
   "outputs": [
    {
     "data": {
      "text/html": [
       "<div>\n",
       "<style scoped>\n",
       "    .dataframe tbody tr th:only-of-type {\n",
       "        vertical-align: middle;\n",
       "    }\n",
       "\n",
       "    .dataframe tbody tr th {\n",
       "        vertical-align: top;\n",
       "    }\n",
       "\n",
       "    .dataframe thead th {\n",
       "        text-align: right;\n",
       "    }\n",
       "</style>\n",
       "<table border=\"1\" class=\"dataframe\">\n",
       "  <thead>\n",
       "    <tr style=\"text-align: right;\">\n",
       "      <th></th>\n",
       "      <th>1</th>\n",
       "      <th>2</th>\n",
       "      <th>5</th>\n",
       "      <th>7</th>\n",
       "      <th>10</th>\n",
       "      <th>20</th>\n",
       "      <th>30</th>\n",
       "    </tr>\n",
       "    <tr>\n",
       "      <th>caldt</th>\n",
       "      <th></th>\n",
       "      <th></th>\n",
       "      <th></th>\n",
       "      <th></th>\n",
       "      <th></th>\n",
       "      <th></th>\n",
       "      <th></th>\n",
       "    </tr>\n",
       "  </thead>\n",
       "  <tbody>\n",
       "    <tr>\n",
       "      <th>1961-06-14</th>\n",
       "      <td>2.935907</td>\n",
       "      <td>3.360687</td>\n",
       "      <td>3.623677</td>\n",
       "      <td>3.768720</td>\n",
       "      <td>3.818819</td>\n",
       "      <td>3.814210</td>\n",
       "      <td>3.815172</td>\n",
       "    </tr>\n",
       "    <tr>\n",
       "      <th>1961-06-15</th>\n",
       "      <td>2.932936</td>\n",
       "      <td>3.376460</td>\n",
       "      <td>3.671691</td>\n",
       "      <td>3.804225</td>\n",
       "      <td>3.862987</td>\n",
       "      <td>3.828220</td>\n",
       "      <td>3.826316</td>\n",
       "    </tr>\n",
       "    <tr>\n",
       "      <th>1961-06-16</th>\n",
       "      <td>2.929949</td>\n",
       "      <td>3.375670</td>\n",
       "      <td>3.685431</td>\n",
       "      <td>3.804216</td>\n",
       "      <td>3.863282</td>\n",
       "      <td>3.832922</td>\n",
       "      <td>3.830049</td>\n",
       "    </tr>\n",
       "    <tr>\n",
       "      <th>1961-06-19</th>\n",
       "      <td>2.920884</td>\n",
       "      <td>3.389970</td>\n",
       "      <td>3.712984</td>\n",
       "      <td>3.824557</td>\n",
       "      <td>3.886205</td>\n",
       "      <td>3.842378</td>\n",
       "      <td>3.837543</td>\n",
       "    </tr>\n",
       "    <tr>\n",
       "      <th>1961-06-20</th>\n",
       "      <td>2.952419</td>\n",
       "      <td>3.355796</td>\n",
       "      <td>3.685391</td>\n",
       "      <td>3.809274</td>\n",
       "      <td>3.886506</td>\n",
       "      <td>3.856465</td>\n",
       "      <td>3.845018</td>\n",
       "    </tr>\n",
       "    <tr>\n",
       "      <th>...</th>\n",
       "      <td>...</td>\n",
       "      <td>...</td>\n",
       "      <td>...</td>\n",
       "      <td>...</td>\n",
       "      <td>...</td>\n",
       "      <td>...</td>\n",
       "      <td>...</td>\n",
       "    </tr>\n",
       "    <tr>\n",
       "      <th>2024-12-24</th>\n",
       "      <td>4.263383</td>\n",
       "      <td>4.288041</td>\n",
       "      <td>4.395862</td>\n",
       "      <td>4.481357</td>\n",
       "      <td>4.531450</td>\n",
       "      <td>4.842907</td>\n",
       "      <td>4.712979</td>\n",
       "    </tr>\n",
       "    <tr>\n",
       "      <th>2024-12-26</th>\n",
       "      <td>4.245134</td>\n",
       "      <td>4.282515</td>\n",
       "      <td>4.378693</td>\n",
       "      <td>4.460309</td>\n",
       "      <td>4.522614</td>\n",
       "      <td>4.836411</td>\n",
       "      <td>4.712016</td>\n",
       "    </tr>\n",
       "    <tr>\n",
       "      <th>2024-12-27</th>\n",
       "      <td>4.220121</td>\n",
       "      <td>4.268950</td>\n",
       "      <td>4.404594</td>\n",
       "      <td>4.493999</td>\n",
       "      <td>4.567839</td>\n",
       "      <td>4.888583</td>\n",
       "      <td>4.763756</td>\n",
       "    </tr>\n",
       "    <tr>\n",
       "      <th>2024-12-30</th>\n",
       "      <td>4.203386</td>\n",
       "      <td>4.206418</td>\n",
       "      <td>4.318682</td>\n",
       "      <td>4.410217</td>\n",
       "      <td>4.489640</td>\n",
       "      <td>4.827387</td>\n",
       "      <td>4.712148</td>\n",
       "    </tr>\n",
       "    <tr>\n",
       "      <th>2024-12-31</th>\n",
       "      <td>4.170459</td>\n",
       "      <td>4.181058</td>\n",
       "      <td>4.339915</td>\n",
       "      <td>4.431660</td>\n",
       "      <td>4.525234</td>\n",
       "      <td>4.801754</td>\n",
       "      <td>4.734187</td>\n",
       "    </tr>\n",
       "  </tbody>\n",
       "</table>\n",
       "<p>15868 rows × 7 columns</p>\n",
       "</div>"
      ],
      "text/plain": [
       "                  1         2         5         7         10        20  \\\n",
       "caldt                                                                    \n",
       "1961-06-14  2.935907  3.360687  3.623677  3.768720  3.818819  3.814210   \n",
       "1961-06-15  2.932936  3.376460  3.671691  3.804225  3.862987  3.828220   \n",
       "1961-06-16  2.929949  3.375670  3.685431  3.804216  3.863282  3.832922   \n",
       "1961-06-19  2.920884  3.389970  3.712984  3.824557  3.886205  3.842378   \n",
       "1961-06-20  2.952419  3.355796  3.685391  3.809274  3.886506  3.856465   \n",
       "...              ...       ...       ...       ...       ...       ...   \n",
       "2024-12-24  4.263383  4.288041  4.395862  4.481357  4.531450  4.842907   \n",
       "2024-12-26  4.245134  4.282515  4.378693  4.460309  4.522614  4.836411   \n",
       "2024-12-27  4.220121  4.268950  4.404594  4.493999  4.567839  4.888583   \n",
       "2024-12-30  4.203386  4.206418  4.318682  4.410217  4.489640  4.827387   \n",
       "2024-12-31  4.170459  4.181058  4.339915  4.431660  4.525234  4.801754   \n",
       "\n",
       "                  30  \n",
       "caldt                 \n",
       "1961-06-14  3.815172  \n",
       "1961-06-15  3.826316  \n",
       "1961-06-16  3.830049  \n",
       "1961-06-19  3.837543  \n",
       "1961-06-20  3.845018  \n",
       "...              ...  \n",
       "2024-12-24  4.712979  \n",
       "2024-12-26  4.712016  \n",
       "2024-12-27  4.763756  \n",
       "2024-12-30  4.712148  \n",
       "2024-12-31  4.734187  \n",
       "\n",
       "[15868 rows x 7 columns]"
      ]
     },
     "execution_count": 3,
     "metadata": {},
     "output_type": "execute_result"
    }
   ],
   "source": [
    "data_ft = db.get_table(library='crsp_m_treasuries', table='tfz_dly_ft').pivot_table(index='caldt',values='tdytm', columns='kytreasnox')\n",
    "data_ft.columns = [1,2,5,7,10,20,30]\n",
    "data_ft"
   ]
  },
  {
   "cell_type": "markdown",
   "metadata": {},
   "source": [
    "***"
   ]
  },
  {
   "cell_type": "markdown",
   "metadata": {},
   "source": [
    "# Save to Excel"
   ]
  },
  {
   "cell_type": "code",
   "execution_count": 4,
   "metadata": {},
   "outputs": [],
   "source": [
    "outfile = f'../data/yields.xlsx'\n",
    "with pd.ExcelWriter(outfile) as writer:\n",
    "    data_ft.to_excel(writer, sheet_name= 'yields', index=True)"
   ]
  },
  {
   "cell_type": "markdown",
   "metadata": {},
   "source": [
    "***"
   ]
  }
 ],
 "metadata": {
  "hide_input": false,
  "kernelspec": {
   "display_name": "Python 3 (ipykernel)",
   "language": "python",
   "name": "python3"
  },
  "language_info": {
   "codemirror_mode": {
    "name": "ipython",
    "version": 3
   },
   "file_extension": ".py",
   "mimetype": "text/x-python",
   "name": "python",
   "nbconvert_exporter": "python",
   "pygments_lexer": "ipython3",
   "version": "3.9.6"
  },
  "toc": {
   "base_numbering": 1,
   "nav_menu": {},
   "number_sections": false,
   "sideBar": true,
   "skip_h1_title": false,
   "title_cell": "Table of Contents",
   "title_sidebar": "Contents",
   "toc_cell": false,
   "toc_position": {},
   "toc_section_display": true,
   "toc_window_display": false
  }
 },
 "nbformat": 4,
 "nbformat_minor": 4
}
