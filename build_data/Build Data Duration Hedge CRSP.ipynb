{
 "cells": [
  {
   "cell_type": "markdown",
   "metadata": {},
   "source": [
    "# Build Data Duration Hedge CRSP"
   ]
  },
  {
   "cell_type": "code",
   "execution_count": 1,
   "metadata": {},
   "outputs": [],
   "source": [
    "DATE = '2024-10-31'"
   ]
  },
  {
   "cell_type": "code",
   "execution_count": 2,
   "metadata": {},
   "outputs": [],
   "source": [
    "import pandas as pd\n",
    "import numpy as np\n",
    "from datetime import date"
   ]
  },
  {
   "cell_type": "code",
   "execution_count": 3,
   "metadata": {},
   "outputs": [],
   "source": [
    "import sys\n",
    "sys.path.insert(0, '../cmds')\n",
    "from treasury_cmds import process_wrds_treasury_data"
   ]
  },
  {
   "cell_type": "code",
   "execution_count": 4,
   "metadata": {},
   "outputs": [
    {
     "name": "stdout",
     "output_type": "stream",
     "text": [
      "Loading library list...\n",
      "Done\n"
     ]
    }
   ],
   "source": [
    "import wrds\n",
    "file_key = open(\"../../keys/wrds_username.txt\",\"r\")\n",
    "USERNAME = file_key.read()\n",
    "file_key.close()\n",
    "\n",
    "db = wrds.Connection(wrds_username=USERNAME)\n",
    "#db.create_pgpass_file()"
   ]
  },
  {
   "cell_type": "markdown",
   "metadata": {},
   "source": [
    "***"
   ]
  },
  {
   "cell_type": "markdown",
   "metadata": {},
   "source": [
    "# Get Timeseries for Duration Analysis"
   ]
  },
  {
   "cell_type": "markdown",
   "metadata": {},
   "source": [
    "Update the KEYNOs. \n",
    "* These three are issued in Aug 2019.\n",
    "* Idea is 5, 10, 30 maturities.\n",
    "* 5-year matures in Aug 2024. So will need updated.\n",
    "\n",
    "Used in HW 2, problem 3.\n",
    "* Only make use of the 30yr and 10yr there."
   ]
  },
  {
   "cell_type": "code",
   "execution_count": 5,
   "metadata": {},
   "outputs": [],
   "source": [
    "KEYNOS = (207392, 207391)\n",
    "\n",
    "SQL_QUERY = f'select * from crsp_m_treasuries.tfz_dly where kytreasno in {KEYNOS}'\n",
    "data_quotes = db.raw_sql(SQL_QUERY)\n",
    "\n",
    "SQL_QUERY = f'select * from crsp_m_treasuries.tfz_iss where kytreasno in {KEYNOS}'\n",
    "data_iss = db.raw_sql(SQL_QUERY)\n",
    "\n",
    "rawdata = data_quotes.merge(data_iss, on='kytreasno')\n",
    "data = process_wrds_treasury_data(rawdata,keys_extra=['duration'])"
   ]
  },
  {
   "cell_type": "code",
   "execution_count": 6,
   "metadata": {},
   "outputs": [],
   "source": [
    "px = data.pivot_table(index='quote date',columns='KYTREASNO',values='price').dropna()\n",
    "duration = data.pivot_table(index='quote date',columns='KYTREASNO',values='duration').dropna()"
   ]
  },
  {
   "cell_type": "markdown",
   "metadata": {},
   "source": [
    "***"
   ]
  },
  {
   "cell_type": "markdown",
   "metadata": {},
   "source": [
    "# Save to Excel"
   ]
  },
  {
   "cell_type": "code",
   "execution_count": 8,
   "metadata": {},
   "outputs": [],
   "source": [
    "outfile = f'../data/treasury_ts_duration_{DATE}.xlsx'\n",
    "with pd.ExcelWriter(outfile) as writer:      \n",
    "    data.to_excel(writer, sheet_name= 'database', index=True)\n",
    "    px.to_excel(writer, sheet_name= 'price', index=True)\n",
    "    duration.to_excel(writer, sheet_name= 'duration', index=True)"
   ]
  }
 ],
 "metadata": {
  "hide_input": false,
  "kernelspec": {
   "display_name": "Python 3 (ipykernel)",
   "language": "python",
   "name": "python3"
  },
  "language_info": {
   "codemirror_mode": {
    "name": "ipython",
    "version": 3
   },
   "file_extension": ".py",
   "mimetype": "text/x-python",
   "name": "python",
   "nbconvert_exporter": "python",
   "pygments_lexer": "ipython3",
   "version": "3.9.6"
  },
  "toc": {
   "base_numbering": 1,
   "nav_menu": {},
   "number_sections": false,
   "sideBar": true,
   "skip_h1_title": false,
   "title_cell": "Table of Contents",
   "title_sidebar": "Contents",
   "toc_cell": false,
   "toc_position": {},
   "toc_section_display": true,
   "toc_window_display": false
  }
 },
 "nbformat": 4,
 "nbformat_minor": 4
}
